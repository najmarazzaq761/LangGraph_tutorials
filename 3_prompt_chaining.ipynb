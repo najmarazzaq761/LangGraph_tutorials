{
 "cells": [
  {
   "cell_type": "markdown",
   "id": "c75397c7",
   "metadata": {},
   "source": [
    "topic -> llm -> detailed outline -> llm -> topic and outline ...create blog\n",
    "\n",
    "start -> gen_outline -> gen_blog -> end"
   ]
  },
  {
   "cell_type": "code",
   "execution_count": 1,
   "id": "4e79694e",
   "metadata": {},
   "outputs": [],
   "source": [
    "# prompt chaining bcz we interact multiple times with our llm\n",
    "from langgraph.graph import StateGraph, START, END  \n",
    "from langchain_groq import ChatGroq\n",
    "from typing import TypedDict\n",
    "import os\n",
    "from dotenv import load_dotenv"
   ]
  },
  {
   "cell_type": "code",
   "execution_count": 2,
   "id": "89dad280",
   "metadata": {},
   "outputs": [],
   "source": [
    "load_dotenv()\n",
    "model=ChatGroq(\n",
    "    groq_api_key = os.getenv(\"GROQ_API_KEY\"),\n",
    "    model=\"llama-3.1-8b-instant\",\n",
    ")"
   ]
  },
  {
   "cell_type": "code",
   "execution_count": 3,
   "id": "6f090c89",
   "metadata": {},
   "outputs": [],
   "source": [
    "class BlogState(TypedDict):\n",
    "    title: str\n",
    "    outline : str\n",
    "    content: str"
   ]
  },
  {
   "cell_type": "code",
   "execution_count": 4,
   "id": "7dba25be",
   "metadata": {},
   "outputs": [],
   "source": [
    "def create_outline(state: BlogState) -> BlogState:\n",
    "    # fetch title \n",
    "     title= state[\"title\"]\n",
    "    # call llm and gen outline\n",
    "     prompt=f\"Generate a detail outline for a blog on the topic {title}\"\n",
    "     outline= model.invoke(prompt).content\n",
    "    # update state\n",
    "     state[\"outline\"]= outline\n",
    "     return state"
   ]
  },
  {
   "cell_type": "code",
   "execution_count": 5,
   "id": "70fb02ba",
   "metadata": {},
   "outputs": [],
   "source": [
    "def create_blog(state: BlogState) -> BlogState:\n",
    "    title= state[\"title\"]\n",
    "    outline=state[\"outline\"]\n",
    "    prompt=f\"Write a detailed blog on the title using the following outline \\n {outline}\"\n",
    "    content= model.invoke(prompt).content\n",
    "    state[\"content\"] = content\n",
    "    return state"
   ]
  },
  {
   "cell_type": "code",
   "execution_count": 6,
   "id": "42c78724",
   "metadata": {},
   "outputs": [],
   "source": [
    "graph= StateGraph(BlogState)\n",
    "\n",
    "# add nodes\n",
    "graph.add_node(\"create_outline\", create_outline)\n",
    "graph.add_node(\"create_blog\", create_blog)\n",
    "\n",
    "# add edges\n",
    "\n",
    "graph.add_edge(START, \"create_outline\")\n",
    "graph.add_edge(\"create_outline\",\"create_blog\")\n",
    "graph.add_edge(\"create_outline\",END)\n",
    "\n",
    "workflow= graph.compile()"
   ]
  },
  {
   "cell_type": "code",
   "execution_count": 9,
   "id": "bc6923e9",
   "metadata": {},
   "outputs": [
    {
     "data": {
      "image/png": "[encoded data removed]",
      "text/plain": [
       "<langgraph.graph.state.CompiledStateGraph object at 0x0000022B43A1C980>"
      ]
     },
     "execution_count": 9,
     "metadata": {},
     "output_type": "execute_result"
    }
   ],
   "source": [
    "workflow"
   ]
  },
  {
   "cell_type": "code",
   "execution_count": 7,
   "id": "5e8a76b5",
   "metadata": {},
   "outputs": [],
   "source": [
    "initial_state= {\"title\": \"Rise of AI in Pakistan\"}\n",
    "final_state=workflow.invoke(initial_state)"
   ]
  },
  {
   "cell_type": "code",
   "execution_count": 8,
   "id": "9f41238d",
   "metadata": {},
   "outputs": [
    {
     "name": "stdout",
     "output_type": "stream",
     "text": [
      "**Title:** \"The Rise of AI in Pakistan: A New Era of Innovation and Opportunities\"\n",
      "\n",
      "**I. Introduction**\n",
      "\n",
      "- Brief overview of AI and its significance globally\n",
      "- Importance of AI in Pakistan's economy and society\n",
      "- Thesis statement: Pakistan is on the cusp of an AI revolution, driven by government initiatives, private sector investments, and a growing talent pool.\n",
      "\n",
      "**II. Government Initiatives and Policies**\n",
      "\n",
      "- Overview of the \"Pakistan AI Policy\" launched in 2021\n",
      "- Details of the \"Artificial Intelligence and Computing (AIC) Authority\" established by the government\n",
      "- Funding and investment opportunities for AI startups and research institutions\n",
      "- Collaborations with international organizations and foreign governments to promote AI development\n",
      "\n",
      "**III. Private Sector Investments and Innovations**\n",
      "\n",
      "- Success stories of Pakistani companies embracing AI, such as:\n",
      "  - Jazz's AI-powered chatbots\n",
      "  - UBL's AI-driven customer service\n",
      "  - HBL's AI-based loan processing\n",
      "- Overview of the role of venture capital firms and accelerators in supporting AI startups\n",
      "- Examples of AI-powered products and services from Pakistani companies, such as:\n",
      "  - AI-driven healthcare solutions\n",
      "  - AI-powered educational platforms\n",
      "  - AI-based transportation systems\n",
      "\n",
      "**IV. Talent Pool and Education**\n",
      "\n",
      "- Overview of the growing demand for AI professionals in Pakistan\n",
      "- Initiatives to develop AI-ready talent pool, such as:\n",
      "  - AI-focused university programs\n",
      "  - Online courses and certifications\n",
      "  - Industry-academia collaborations\n",
      "- Success stories of Pakistani AI researchers and developers making a global impact\n",
      "\n",
      "**V. Challenges and Concerns**\n",
      "\n",
      "- AI job displacement and unemployment concerns\n",
      "- Data privacy and security risks associated with AI adoption\n",
      "- Ethical considerations in AI development and deployment\n",
      "- Strategies for addressing these challenges and concerns\n",
      "\n",
      "**VI. Future Prospects and Opportunities**\n",
      "\n",
      "- Expected growth of the AI market in Pakistan\n",
      "- Emerging areas of AI, such as:\n",
      "  - Explainable AI (XAI)\n",
      "  - Edge AI\n",
      "  - Autonomous systems\n",
      "- Call to action for individuals, organizations, and policymakers to support the growth of AI in Pakistan\n",
      "\n",
      "**VII. Conclusion**\n",
      "\n",
      "- Recap of the current state of AI in Pakistan\n",
      "- Emphasis on the need for continued investment, innovation, and collaboration to drive the AI revolution forward\n",
      "- Final thoughts on the potential benefits and challenges of AI in Pakistan's economy and society.\n",
      "\n",
      "**VIII. References**\n",
      "\n",
      "- List of sources used in the blog post, including academic papers, news articles, and government reports.\n",
      "\n",
      "**IX. Appendices**\n",
      "\n",
      "- Additional information or resources that may be of interest to readers, such as:\n",
      "  - List of AI-related events and conferences in Pakistan\n",
      "  - Directory of AI companies and startups in Pakistan\n",
      "  - AI-focused educational resources.\n"
     ]
    }
   ],
   "source": [
    "print(final_state[\"outline\"])"
   ]
  },
  {
   "cell_type": "code",
   "execution_count": 9,
   "id": "4c841ca4",
   "metadata": {},
   "outputs": [
    {
     "name": "stdout",
     "output_type": "stream",
     "text": [
      "**The Rise of AI in Pakistan: A New Era of Innovation and Opportunities**\n",
      "\n",
      "**Introduction**\n",
      "\n",
      "Artificial intelligence (AI) has become a transformative force globally, revolutionizing industries and transforming the way we live and work. From self-driving cars to personalized medicine, AI is making a profound impact on economies and societies worldwide. In Pakistan, the adoption of AI is gaining momentum, driven by government initiatives, private sector investments, and a growing talent pool. The country is on the cusp of an AI revolution, with far-reaching implications for its economy and society.\n",
      "\n",
      "The significance of AI cannot be overstated. According to a report by McKinsey, the global AI market is expected to reach $190 billion by 2025, with AI-driven innovations transforming industries such as healthcare, finance, and education. In Pakistan, AI has the potential to drive economic growth, create new job opportunities, and improve the quality of life for citizens.\n",
      "\n",
      "The importance of AI in Pakistan's economy and society cannot be ignored. With a growing population and a young demographic, Pakistan is well-positioned to leverage AI to drive innovation and entrepreneurship. The government, private sector, and academia must come together to support the growth of AI in Pakistan, creating a favorable ecosystem for AI startups, researchers, and developers.\n",
      "\n",
      "**Government Initiatives and Policies**\n",
      "\n",
      "In 2021, the Government of Pakistan launched the \"Pakistan AI Policy\" to promote the development and adoption of AI in the country. The policy aims to create a framework for AI research, development, and deployment, with a focus on areas such as healthcare, education, and transportation. The policy also establishes the \"Artificial Intelligence and Computing (AIC) Authority\" to oversee the implementation of AI initiatives and provide funding and support to AI startups and research institutions.\n",
      "\n",
      "The AIC Authority has been instrumental in promoting AI development in Pakistan, providing funding and investment opportunities for AI startups and research institutions. The authority has also collaborated with international organizations and foreign governments to promote AI development, with partnerships with countries such as China, Japan, and the United States.\n",
      "\n",
      "In addition to the AIC Authority, the government has established several initiatives to promote AI development in Pakistan, including the \"AI for All\" program, which aims to provide AI education and training to citizens. The government has also launched several AI-focused initiatives in areas such as healthcare, education, and transportation, with the goal of improving the quality of life for citizens.\n",
      "\n",
      "**Private Sector Investments and Innovations**\n",
      "\n",
      "Pakistan's private sector has been at the forefront of AI adoption, with several companies embracing AI to drive innovation and growth. Jazz, a leading mobile operator in Pakistan, has developed AI-powered chatbots to provide customer service and support. UBL, a leading bank in Pakistan, has developed AI-driven customer service platforms to improve customer experience.\n",
      "\n",
      "HBL, another leading bank in Pakistan, has developed AI-based loan processing systems to improve efficiency and reduce costs. These are just a few examples of Pakistani companies that are leveraging AI to drive innovation and growth.\n",
      "\n",
      "Venture capital firms and accelerators have also played a crucial role in supporting AI startups in Pakistan. Firms such as Indus Valley Capital and Fatima Gobi Ventures have invested in several AI startups, providing funding and support to help them grow and scale.\n",
      "\n",
      "Pakistani companies have also developed AI-powered products and services in areas such as healthcare, education, and transportation. For example, companies such as HealthNet and Medicloud have developed AI-driven healthcare solutions to improve patient outcomes and reduce costs. Educational institutions such as Edify and eLearn have developed AI-powered educational platforms to improve student outcomes and enhance the learning experience.\n",
      "\n",
      "**Talent Pool and Education**\n",
      "\n",
      "The growing demand for AI professionals in Pakistan has created a need for a skilled and talented workforce. To address this need, several universities and institutions have developed AI-focused programs and courses. For example, the National University of Sciences and Technology (NUST) has established an AI-focused program to provide students with hands-on experience in AI development.\n",
      "\n",
      "Online courses and certifications have also become popular in Pakistan, with platforms such as Coursera and edX offering AI-focused courses and certifications. Industry-academia collaborations have also been established, with partnerships between universities and companies to provide students with practical experience in AI development.\n",
      "\n",
      "Several Pakistani AI researchers and developers have made a global impact, with achievements in areas such as natural language processing and computer vision. For example, researchers at the National Center for Physics (NCP) have developed AI-powered systems to analyze and predict the behavior of complex systems.\n",
      "\n",
      "**Challenges and Concerns**\n",
      "\n",
      "While AI has the potential to drive growth and innovation in Pakistan, there are several challenges and concerns that must be addressed. One of the major concerns is AI job displacement, with AI-powered systems potentially replacing human workers in several industries. To address this concern, governments, companies, and educators must invest in upskilling and reskilling programs to ensure that workers have the skills and knowledge needed to work alongside AI systems.\n",
      "\n",
      "Data privacy and security risks are also associated with AI adoption, with AI-powered systems potentially compromising sensitive data and compromising national security. To address these concerns, governments and companies must establish robust data protection and security protocols to ensure that AI systems are secure and trustworthy.\n",
      "\n",
      "Ethical considerations in AI development and deployment are also essential, with AI systems potentially perpetuating biases and prejudices. To address these concerns, developers and policymakers must establish guidelines and frameworks to ensure that AI systems are developed and deployed in an ethical and responsible manner.\n",
      "\n",
      "**Future Prospects and Opportunities**\n",
      "\n",
      "The AI market in Pakistan is expected to grow significantly in the coming years, with several emerging areas of AI such as explainable AI (XAI), edge AI, and autonomous systems. XAI, which aims to provide insights and explanations for AI decisions, is expected to become increasingly important in Pakistan, with applications in areas such as healthcare and finance.\n",
      "\n",
      "Edge AI, which involves processing AI data on devices rather than in the cloud, is also expected to become increasingly important in Pakistan, with applications in areas such as transportation and logistics. Autonomous systems, which involve AI-powered vehicles and drones, are also expected to become increasingly important in Pakistan, with applications in areas such as transportation and delivery.\n",
      "\n",
      "**Conclusion**\n",
      "\n",
      "Pakistan is on the cusp of an AI revolution, with far-reaching implications for its economy and society. The government, private sector, and academia must come together to support the growth of AI in Pakistan, creating a favorable ecosystem for AI startups, researchers, and developers.\n",
      "\n",
      "While there are several challenges and concerns associated with AI adoption, the potential benefits of AI in Pakistan are significant. From improving the quality of life for citizens to driving economic growth and innovation, AI has the potential to transform Pakistan into a hub for AI development and innovation.\n",
      "\n",
      "**References**\n",
      "\n",
      "1. Pakistan AI Policy (2021)\n",
      "2. Artificial Intelligence and Computing (AIC) Authority (2021)\n",
      "3. McKinsey Global Institute, \"A future that works: Automation, employment, and productivity\" (2017)\n",
      "4. National University of Sciences and Technology (NUST), \"AI-focused program\" (2022)\n",
      "5. Coursera, \"AI-focused courses and certifications\" (2022)\n",
      "6. edX, \"AI-focused courses and certifications\" (2022)\n",
      "7. National Center for Physics (NCP), \"AI-powered systems for complex systems analysis\" (2022)\n",
      "\n",
      "**Appendices**\n",
      "\n",
      "1. List of AI-related events and conferences in Pakistan\n",
      "2. Directory of AI companies and startups in Pakistan\n",
      "3. AI-focused educational resources\n",
      "\n",
      "**List of AI-related events and conferences in Pakistan**\n",
      "\n",
      "1. Pakistan AI Summit (2022)\n",
      "2. AI for All conference (2022)\n",
      "3. National Conference on Artificial Intelligence (2022)\n",
      "4. Pakistan AI Expo (2022)\n",
      "5. AI-focused workshops and training programs at NUST and other universities\n",
      "\n",
      "**Directory of AI companies and startups in Pakistan**\n",
      "\n",
      "1. Jazz\n",
      "2. UBL\n",
      "3. HBL\n",
      "4. HealthNet\n",
      "5. Medicloud\n",
      "6. Edify\n",
      "7. eLearn\n",
      "8. Indus Valley Capital\n",
      "9. Fatima Gobi Ventures\n",
      "10. AI-focused startups and companies in various sectors, including healthcare, education, and transportation.\n",
      "\n",
      "**AI-focused educational resources**\n",
      "\n",
      "1. Coursera, \"AI-focused courses and certifications\"\n",
      "2. edX, \"AI-focused courses and certifications\"\n",
      "3. National University of Sciences and Technology (NUST), \"AI-focused program\"\n",
      "4. National Center for Physics (NCP), \"AI-powered systems for complex systems analysis\"\n",
      "5. AI-focused books and research papers on various aspects of AI, including machine learning, natural language processing, and computer vision.\n"
     ]
    }
   ],
   "source": [
    "print(final_state[\"content\"])"
   ]
  }
 ],
 "metadata": {
  "kernelspec": {
   "display_name": "myenv",
   "language": "python",
   "name": "python3"
  },
  "language_info": {
   "codemirror_mode": {
    "name": "ipython",
    "version": 3
   },
   "file_extension": ".py",
   "mimetype": "text/x-python",
   "name": "python",
   "nbconvert_exporter": "python",
   "pygments_lexer": "ipython3",
   "version": "3.13.3"
  }
 },
 "nbformat": 4,
 "nbformat_minor": 5
}
