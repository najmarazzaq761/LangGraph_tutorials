{
 "cells": [
  {
   "cell_type": "code",
   "execution_count": null,
   "id": "987e1994",
   "metadata": {},
   "outputs": [],
   "source": [
    "\n",
    "from langgraph.graph import StateGraph, START, END\n",
    "from typing import TypedDict, Annotated"
   ]
  },
  {
   "cell_type": "code",
   "execution_count": null,
   "id": "ccb1426a",
   "metadata": {},
   "outputs": [],
   "source": [
    "class QuadState(TypedDict):\n",
    "    a:int\n",
    "    b:int\n",
    "    c:int\n",
    "\n",
    "    equation: str\n",
    "    discriminant: float\n",
    "    result: str"
   ]
  },
  {
   "cell_type": "code",
   "execution_count": null,
   "id": "6837e6a2",
   "metadata": {},
   "outputs": [],
   "source": [
    "def show_equation(state: QuadState):\n",
    "    equation=f\"{state[\"a\"]}x2{state[\"b\"]x{state[c]}}\"\n",
    "    return {\"equation\": equation}"
   ]
  },
  {
   "cell_type": "code",
   "execution_count": null,
   "id": "a8dbaace",
   "metadata": {},
   "outputs": [],
   "source": [
    "def calculate_descriminant(state: QuadState):\n",
    "    descriminant= state[\"b\"]**2 - (4*state[\"a\"]*state[c])\n",
    "    return {\"discriminant\": descriminant}"
   ]
  },
  {
   "cell_type": "code",
   "execution_count": null,
   "id": "6c3c0cfc",
   "metadata": {},
   "outputs": [],
   "source": [
    "def real_roots(state: QuadState):\n",
    "    root1 = (-state[\"b\"]+ state[\"discriminant\"]**0.5)/(2*state[\"a\"])\n",
    "    root2 = (-state[\"b\"]- state[\"discriminant\"]**0.5)/(2*state[\"a\"])\n",
    "    result=f\" The roots are {root1} and {root2}\"\n",
    "    return {\"result\": result}"
   ]
  },
  {
   "cell_type": "code",
   "execution_count": null,
   "id": "2da27eb1",
   "metadata": {},
   "outputs": [],
   "source": [
    "def repeated_roots(state: QuadState):\n",
    "    root = (-state[\"b\"])/(2*state[\"a\"])\n",
    "   \n",
    "    result=f\"Only root is {root}\"\n",
    "    return {\"result\": result}"
   ]
  },
  {
   "cell_type": "code",
   "execution_count": null,
   "id": "9f4fdc2e",
   "metadata": {},
   "outputs": [],
   "source": [
    "def no_real_roots(state: QuadState):\n",
    "   \n",
    "    result=f\"No real roots\"\n",
    "    return {\"result\": result}"
   ]
  },
  {
   "cell_type": "code",
   "execution_count": null,
   "id": "a207ea3d",
   "metadata": {},
   "outputs": [],
   "source": [
    "# routing function\n",
    "def check_condition(state: QuadState)-> Literal[\"real_roots\",\"repeated_roots\",\"no_real_roots\"]:\n",
    "    if state[\"discriminant\"] >0:\n",
    "        return \"real_roots\"\n",
    "    elif state[\"discriminant\"]==0:\n",
    "        return \"repeated_roots\"\n",
    "    else:\n",
    "        return \"no_real_roots\""
   ]
  },
  {
   "cell_type": "code",
   "execution_count": null,
   "metadata": {},
   "outputs": [],
   "source": [
    "graph= StateGraph(QuadState)\n",
    "\n",
    "graph.add_node(\"show_equation\", show_equation)\n",
    "graph.add_node(\"calculate_discriminant\", calculate_descriminant)\n",
    "\n",
    "graph.add_node(\"real_roots\", real_roots)\n",
    "graph.add_node(\"repeated_roots\", repeated_roots)\n",
    "graph.add_node(\"no_real_roots\", no_real_roots)\n",
    "\n",
    "graph.add_edge(START, \"show_equation\")\n",
    "graph.add_edge(\"show_equation\", \"calculate_discriminant\")\n",
    "\n",
    "graph.add_conditional_edges(\"calculate_discriminant\", check_condition)\n",
    "graph.add_edge(\"real_roots\",END)\n",
    "graph.add_edge(\"repeated_roots\",END)\n",
    "graph.add_edge(\"no_real_roots\",END)\n",
    "\n",
    "workflow = graph.compile()"
   ]
  },
  {
   "cell_type": "code",
   "execution_count": null,
   "metadata": {},
   "outputs": [],
   "source": [
    "initial_state = {\n",
    "    \"a\": 4,\n",
    "    \"b\" : -5,\n",
    "    \"c\": -4\n",
    "}\n",
    "workflow.invoke(initial_state)"
   ]
  },
  {
   "cell_type": "code",
   "execution_count": null,
   "metadata": {},
   "outputs": [],
   "source": []
  }
 ],
 "metadata": {
  "kernelspec": {
   "display_name": "myenv",
   "language": "python",
   "name": "python3"
  },
  "language_info": {
   "codemirror_mode": {
    "name": "ipython",
    "version": 3
   },
   "file_extension": ".py",
   "mimetype": "text/x-python",
   "name": "python",
   "nbconvert_exporter": "python",
   "pygments_lexer": "ipython3",
   "version": "3.13.3"
  }
 },
 "nbformat": 4,
 "nbformat_minor": 5
}
